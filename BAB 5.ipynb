{
  "nbformat": 4,
  "nbformat_minor": 0,
  "metadata": {
    "colab": {
      "provenance": []
    },
    "kernelspec": {
      "name": "python3",
      "display_name": "Python 3"
    },
    "language_info": {
      "name": "python"
    }
  },
  "cells": [
    {
      "cell_type": "code",
      "execution_count": 1,
      "metadata": {
        "colab": {
          "base_uri": "https://localhost:8080/",
          "height": 793
        },
        "id": "kgj0G6mS2DN9",
        "outputId": "502ec458-cd9b-48fa-905a-7ca22a61631a"
      },
      "outputs": [
        {
          "output_type": "stream",
          "name": "stdout",
          "text": [
            "Hasil Cross-Validation: [0.94285714 0.93571429 0.92857143 0.88571429 0.93571429]\n",
            "Rata-rata Cross-Validation Score: 0.9257142857142856\n",
            "\n",
            "Hasil Evaluasi pada Data Uji:\n",
            "Akurasi: 0.92\n",
            "Presisi: 0.87\n",
            "Recall: 0.96\n",
            "F1-Score: 0.92\n"
          ]
        },
        {
          "output_type": "display_data",
          "data": {
            "text/plain": [
              "<Figure size 600x500 with 2 Axes>"
            ],
            "image/png": "[encoded data removed]"
          },
          "metadata": {}
        },
        {
          "output_type": "stream",
          "name": "stdout",
          "text": [
            "\n",
            "Best Parameters dari GridSearchCV: {'max_depth': 10, 'min_samples_split': 5, 'n_estimators': 100}\n",
            "Best Cross-Validation Score: 0.9314285714285713\n",
            "\n",
            "Akurasi Model dengan Parameter Terbaik: 0.92\n",
            "\n",
            "Kesimpulan:\n",
            "1. Cross-validation memberikan evaluasi model yang lebih terpercaya dengan mengurangi overfitting pada data latih.\n",
            "2. Confusion Matrix membantu memahami distribusi kesalahan prediksi model.\n",
            "3. Hyperparameter tuning dengan GridSearchCV meningkatkan performa model dengan mencari kombinasi parameter terbaik.\n"
          ]
        }
      ],
      "source": [
        "import numpy as np\n",
        "import pandas as pd\n",
        "from sklearn.model_selection import train_test_split, cross_val_score, GridSearchCV\n",
        "from sklearn.metrics import accuracy_score, precision_score, recall_score, f1_score, confusion_matrix, roc_auc_score\n",
        "from sklearn.ensemble import RandomForestClassifier\n",
        "from sklearn.datasets import make_classification\n",
        "import matplotlib.pyplot as plt\n",
        "import seaborn as sns\n",
        "\n",
        "# 1. Persiapan Data\n",
        "# Membuat dataset sintetik untuk klasifikasi\n",
        "X, y = make_classification(n_samples=1000, n_features=20, n_informative=10, n_redundant=5, random_state=42)\n",
        "X_train, X_test, y_train, y_test = train_test_split(X, y, test_size=0.3, random_state=42)\n",
        "\n",
        "# Penjelasan:\n",
        "# Dataset terdiri dari 1000 sampel, 20 fitur (10 informatif, 5 redundan). Data dibagi menjadi data latih (70%) dan data uji (30%).\n",
        "\n",
        "# 2. Evaluasi Model dengan Cross-Validation\n",
        "model = RandomForestClassifier(random_state=42)\n",
        "cv_scores = cross_val_score(model, X_train, y_train, cv=5)\n",
        "\n",
        "print(\"Hasil Cross-Validation:\", cv_scores)\n",
        "print(\"Rata-rata Cross-Validation Score:\", np.mean(cv_scores))\n",
        "\n",
        "# Penjelasan:\n",
        "# Cross-validation digunakan untuk mengevaluasi model dengan membagi data latih menjadi 5 lipatan.\n",
        "\n",
        "# 3. Training dan Evaluasi Model\n",
        "model.fit(X_train, y_train)\n",
        "y_pred = model.predict(X_test)\n",
        "\n",
        "# Menghitung metrik evaluasi\n",
        "accuracy = accuracy_score(y_test, y_pred)\n",
        "precision = precision_score(y_test, y_pred)\n",
        "recall = recall_score(y_test, y_pred)\n",
        "f1 = f1_score(y_test, y_pred)\n",
        "\n",
        "print(\"\\nHasil Evaluasi pada Data Uji:\")\n",
        "print(f\"Akurasi: {accuracy:.2f}\")\n",
        "print(f\"Presisi: {precision:.2f}\")\n",
        "print(f\"Recall: {recall:.2f}\")\n",
        "print(f\"F1-Score: {f1:.2f}\")\n",
        "\n",
        "# 4. Confusion Matrix\n",
        "cm = confusion_matrix(y_test, y_pred)\n",
        "plt.figure(figsize=(6, 5))\n",
        "sns.heatmap(cm, annot=True, fmt='d', cmap='Blues', xticklabels=['Class 0', 'Class 1'], yticklabels=['Class 0', 'Class 1'])\n",
        "plt.title(\"Confusion Matrix\")\n",
        "plt.xlabel(\"Predicted\")\n",
        "plt.ylabel(\"Actual\")\n",
        "plt.show()\n",
        "\n",
        "# Penjelasan:\n",
        "# Confusion Matrix memberikan gambaran prediksi model terhadap data uji.\n",
        "\n",
        "# 5. Hyperparameter Tuning dengan GridSearchCV\n",
        "param_grid = {\n",
        "    'n_estimators': [50, 100, 200],\n",
        "    'max_depth': [None, 10, 20],\n",
        "    'min_samples_split': [2, 5, 10]\n",
        "}\n",
        "\n",
        "grid_search = GridSearchCV(RandomForestClassifier(random_state=42), param_grid, cv=5, scoring='accuracy')\n",
        "grid_search.fit(X_train, y_train)\n",
        "\n",
        "print(\"\\nBest Parameters dari GridSearchCV:\", grid_search.best_params_)\n",
        "print(\"Best Cross-Validation Score:\", grid_search.best_score_)\n",
        "\n",
        "# 6. Model dengan Parameter Terbaik\n",
        "best_model = grid_search.best_estimator_\n",
        "y_best_pred = best_model.predict(X_test)\n",
        "\n",
        "accuracy_best = accuracy_score(y_test, y_best_pred)\n",
        "print(f\"\\nAkurasi Model dengan Parameter Terbaik: {accuracy_best:.2f}\")\n",
        "\n",
        "# Penjelasan:\n",
        "# GridSearchCV mencari kombinasi parameter terbaik berdasarkan kriteria evaluasi tertentu (di sini, akurasi).\n",
        "\n",
        "# Kesimpulan\n",
        "print(\"\\nKesimpulan:\")\n",
        "print(\"1. Cross-validation memberikan evaluasi model yang lebih terpercaya dengan mengurangi overfitting pada data latih.\")\n",
        "print(\"2. Confusion Matrix membantu memahami distribusi kesalahan prediksi model.\")\n",
        "print(\"3. Hyperparameter tuning dengan GridSearchCV meningkatkan performa model dengan mencari kombinasi parameter terbaik.\")\n"
      ]
    },
    {
      "cell_type": "code",
      "source": [],
      "metadata": {
        "id": "_fLFwChy2HMC"
      },
      "execution_count": null,
      "outputs": []
    }
  ]
}