{
  "nbformat": 4,
  "nbformat_minor": 0,
  "metadata": {
    "colab": {
      "provenance": []
    },
    "kernelspec": {
      "name": "python3",
      "display_name": "Python 3"
    },
    "language_info": {
      "name": "python"
    }
  },
  "cells": [
    {
      "cell_type": "code",
      "execution_count": 1,
      "metadata": {
        "colab": {
          "base_uri": "https://localhost:8080/",
          "height": 1000
        },
        "id": "4cfjmQL43xvt",
        "outputId": "7469d2bc-200c-44bb-ea1a-759ff33445c5"
      },
      "outputs": [
        {
          "output_type": "stream",
          "name": "stdout",
          "text": [
            "\n",
            "Fitur Bag-of-Words:\n",
            "['aktingnya' 'alur' 'bagus' 'biasa' 'cerita' 'ceritanya' 'dan' 'dengan'\n",
            " 'direkomendasikan' 'film' 'gambar' 'hebat' 'ini' 'lambat' 'luar'\n",
            " 'membosankan' 'menarik' 'menyentuh' 'menyukai' 'menyukainya'\n",
            " 'pengambilan' 'saja' 'sangat' 'saya' 'suka' 'terlalu' 'tetapi' 'tidak'\n",
            " 'yang']\n",
            "\n",
            "Fitur TF-IDF:\n",
            "['aktingnya' 'alur' 'bagus' 'biasa' 'cerita' 'ceritanya' 'dan' 'dengan'\n",
            " 'direkomendasikan' 'film' 'gambar' 'hebat' 'ini' 'lambat' 'luar'\n",
            " 'membosankan' 'menarik' 'menyentuh' 'menyukai' 'menyukainya'\n",
            " 'pengambilan' 'saja' 'sangat' 'saya' 'suka' 'terlalu' 'tetapi' 'tidak'\n",
            " 'yang']\n",
            "\n",
            "Hasil Naive Bayes dengan Bag-of-Words:\n",
            "Akurasi: 0.3333333333333333\n",
            "              precision    recall  f1-score   support\n",
            "\n",
            "           0       0.00      0.00      0.00         2\n",
            "           1       0.33      1.00      0.50         1\n",
            "\n",
            "    accuracy                           0.33         3\n",
            "   macro avg       0.17      0.50      0.25         3\n",
            "weighted avg       0.11      0.33      0.17         3\n",
            "\n",
            "\n",
            "Hasil Logistic Regression dengan TF-IDF:\n",
            "Akurasi: 0.3333333333333333\n",
            "              precision    recall  f1-score   support\n",
            "\n",
            "           0       0.00      0.00      0.00         2\n",
            "           1       0.33      1.00      0.50         1\n",
            "\n",
            "    accuracy                           0.33         3\n",
            "   macro avg       0.17      0.50      0.25         3\n",
            "weighted avg       0.11      0.33      0.17         3\n",
            "\n"
          ]
        },
        {
          "output_type": "stream",
          "name": "stderr",
          "text": [
            "/usr/local/lib/python3.10/dist-packages/sklearn/metrics/_classification.py:1565: UndefinedMetricWarning: Precision is ill-defined and being set to 0.0 in labels with no predicted samples. Use `zero_division` parameter to control this behavior.\n",
            "  _warn_prf(average, modifier, f\"{metric.capitalize()} is\", len(result))\n",
            "/usr/local/lib/python3.10/dist-packages/sklearn/metrics/_classification.py:1565: UndefinedMetricWarning: Precision is ill-defined and being set to 0.0 in labels with no predicted samples. Use `zero_division` parameter to control this behavior.\n",
            "  _warn_prf(average, modifier, f\"{metric.capitalize()} is\", len(result))\n",
            "/usr/local/lib/python3.10/dist-packages/sklearn/metrics/_classification.py:1565: UndefinedMetricWarning: Precision is ill-defined and being set to 0.0 in labels with no predicted samples. Use `zero_division` parameter to control this behavior.\n",
            "  _warn_prf(average, modifier, f\"{metric.capitalize()} is\", len(result))\n",
            "/usr/local/lib/python3.10/dist-packages/sklearn/metrics/_classification.py:1565: UndefinedMetricWarning: Precision is ill-defined and being set to 0.0 in labels with no predicted samples. Use `zero_division` parameter to control this behavior.\n",
            "  _warn_prf(average, modifier, f\"{metric.capitalize()} is\", len(result))\n",
            "/usr/local/lib/python3.10/dist-packages/sklearn/metrics/_classification.py:1565: UndefinedMetricWarning: Precision is ill-defined and being set to 0.0 in labels with no predicted samples. Use `zero_division` parameter to control this behavior.\n",
            "  _warn_prf(average, modifier, f\"{metric.capitalize()} is\", len(result))\n",
            "/usr/local/lib/python3.10/dist-packages/sklearn/metrics/_classification.py:1565: UndefinedMetricWarning: Precision is ill-defined and being set to 0.0 in labels with no predicted samples. Use `zero_division` parameter to control this behavior.\n",
            "  _warn_prf(average, modifier, f\"{metric.capitalize()} is\", len(result))\n"
          ]
        },
        {
          "output_type": "display_data",
          "data": {
            "text/plain": [
              "<Figure size 600x500 with 2 Axes>"
            ],
            "image/png": "[encoded data removed]"
          },
          "metadata": {}
        },
        {
          "output_type": "stream",
          "name": "stdout",
          "text": [
            "\n",
            "Kesimpulan:\n",
            "1. Bag-of-Words adalah representasi teks sederhana berdasarkan frekuensi kata tanpa mempertimbangkan konteks.\n",
            "2. TF-IDF memberikan bobot lebih tinggi pada kata-kata unik, membantu menangkap relevansi kata dalam dokumen.\n",
            "3. Multinomial Naive Bayes adalah model cepat dan efektif untuk data berbasis teks seperti Bag-of-Words.\n",
            "4. Logistic Regression dengan TF-IDF dapat memberikan akurasi yang lebih tinggi karena bobot kata lebih informatif.\n"
          ]
        }
      ],
      "source": [
        "import numpy as np\n",
        "import pandas as pd\n",
        "from sklearn.feature_extraction.text import CountVectorizer, TfidfVectorizer\n",
        "from sklearn.model_selection import train_test_split\n",
        "from sklearn.pipeline import Pipeline\n",
        "from sklearn.naive_bayes import MultinomialNB\n",
        "from sklearn.linear_model import LogisticRegression\n",
        "from sklearn.metrics import classification_report, accuracy_score, confusion_matrix\n",
        "import matplotlib.pyplot as plt\n",
        "import seaborn as sns\n",
        "\n",
        "# 1. Persiapan Data\n",
        "# Contoh dataset sederhana untuk analisis sentimen\n",
        "reviews = [\n",
        "    \"Film ini sangat bagus, saya menyukainya\",\n",
        "    \"Cerita yang membosankan dan akting yang buruk\",\n",
        "    \"Pengambilan gambar dan alur cerita sangat menarik\",\n",
        "    \"Film yang luar biasa, sangat direkomendasikan\",\n",
        "    \"Saya tidak suka film ini, terlalu lambat dan membosankan\",\n",
        "    \"Luar biasa! Film ini adalah mahakarya\",\n",
        "    \"Biasa saja, tidak terlalu menarik\",\n",
        "    \"Saya menyukai aktingnya tetapi alur ceritanya tidak bagus\",\n",
        "    \"Sangat buruk, tidak akan menonton lagi\",\n",
        "    \"Film yang hebat dengan cerita yang sangat menyentuh\"\n",
        "]\n",
        "labels = [1, 0, 1, 1, 0, 1, 0, 0, 0, 1]  # 1: Positif, 0: Negatif\n",
        "\n",
        "# Membagi data menjadi data latih dan data uji\n",
        "X_train, X_test, y_train, y_test = train_test_split(reviews, labels, test_size=0.3, random_state=42)\n",
        "\n",
        "# Penjelasan:\n",
        "# Dataset terdiri dari ulasan film dengan label sentimen (1 untuk positif, 0 untuk negatif).\n",
        "# Data dibagi menjadi data latih (70%) dan data uji (30%).\n",
        "\n",
        "# 2. Representasi Data dengan Bag-of-Words\n",
        "vectorizer = CountVectorizer()\n",
        "X_train_bow = vectorizer.fit_transform(X_train)\n",
        "X_test_bow = vectorizer.transform(X_test)\n",
        "\n",
        "print(\"\\nFitur Bag-of-Words:\")\n",
        "print(vectorizer.get_feature_names_out())\n",
        "\n",
        "# Penjelasan:\n",
        "# CountVectorizer mengubah teks menjadi representasi numerik berdasarkan frekuensi kata.\n",
        "\n",
        "# 3. Representasi Data dengan TF-IDF\n",
        "tfidf_vectorizer = TfidfVectorizer()\n",
        "X_train_tfidf = tfidf_vectorizer.fit_transform(X_train)\n",
        "X_test_tfidf = tfidf_vectorizer.transform(X_test)\n",
        "\n",
        "print(\"\\nFitur TF-IDF:\")\n",
        "print(tfidf_vectorizer.get_feature_names_out())\n",
        "\n",
        "# Penjelasan:\n",
        "# TfidfVectorizer memberikan bobot lebih tinggi pada kata yang sering muncul dalam satu dokumen tetapi jarang muncul di dokumen lain.\n",
        "\n",
        "# 4. Model Naive Bayes dengan Bag-of-Words\n",
        "nb_model = MultinomialNB()\n",
        "nb_model.fit(X_train_bow, y_train)\n",
        "nb_predictions = nb_model.predict(X_test_bow)\n",
        "\n",
        "print(\"\\nHasil Naive Bayes dengan Bag-of-Words:\")\n",
        "print(\"Akurasi:\", accuracy_score(y_test, nb_predictions))\n",
        "print(classification_report(y_test, nb_predictions))\n",
        "\n",
        "# 5. Model Logistic Regression dengan TF-IDF\n",
        "lr_model = LogisticRegression(max_iter=500)\n",
        "lr_model.fit(X_train_tfidf, y_train)\n",
        "lr_predictions = lr_model.predict(X_test_tfidf)\n",
        "\n",
        "print(\"\\nHasil Logistic Regression dengan TF-IDF:\")\n",
        "print(\"Akurasi:\", accuracy_score(y_test, lr_predictions))\n",
        "print(classification_report(y_test, lr_predictions))\n",
        "\n",
        "# 6. Visualisasi Confusion Matrix\n",
        "cm = confusion_matrix(y_test, lr_predictions)\n",
        "plt.figure(figsize=(6, 5))\n",
        "sns.heatmap(cm, annot=True, fmt='d', cmap='Blues', xticklabels=['Negatif', 'Positif'], yticklabels=['Negatif', 'Positif'])\n",
        "plt.title(\"Confusion Matrix Logistic Regression\")\n",
        "plt.xlabel(\"Prediksi\")\n",
        "plt.ylabel(\"Aktual\")\n",
        "plt.show()\n",
        "\n",
        "# Kesimpulan\n",
        "print(\"\\nKesimpulan:\")\n",
        "print(\"1. Bag-of-Words adalah representasi teks sederhana berdasarkan frekuensi kata tanpa mempertimbangkan konteks.\")\n",
        "print(\"2. TF-IDF memberikan bobot lebih tinggi pada kata-kata unik, membantu menangkap relevansi kata dalam dokumen.\")\n",
        "print(\"3. Multinomial Naive Bayes adalah model cepat dan efektif untuk data berbasis teks seperti Bag-of-Words.\")\n",
        "print(\"4. Logistic Regression dengan TF-IDF dapat memberikan akurasi yang lebih tinggi karena bobot kata lebih informatif.\")\n"
      ]
    },
    {
      "cell_type": "code",
      "source": [],
      "metadata": {
        "id": "IqcLmnZR3zbs"
      },
      "execution_count": null,
      "outputs": []
    }
  ]
}