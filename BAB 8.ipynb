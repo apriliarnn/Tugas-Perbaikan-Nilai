{
  "nbformat": 4,
  "nbformat_minor": 0,
  "metadata": {
    "colab": {
      "provenance": []
    },
    "kernelspec": {
      "name": "python3",
      "display_name": "Python 3"
    },
    "language_info": {
      "name": "python"
    }
  },
  "cells": [
    {
      "cell_type": "code",
      "execution_count": 1,
      "metadata": {
        "colab": {
          "base_uri": "https://localhost:8080/",
          "height": 1000
        },
        "id": "ezdp6DO44JQ7",
        "outputId": "69bcf0a4-2d6e-44e6-9313-68b496e24f1e"
      },
      "outputs": [
        {
          "output_type": "stream",
          "name": "stdout",
          "text": [
            "\n",
            "Hasil Prototipe Cepat dengan Random Forest:\n",
            "Akurasi: 0.9166666666666666\n",
            "              precision    recall  f1-score   support\n",
            "\n",
            "           0       0.97      0.88      0.92       160\n",
            "           1       0.87      0.96      0.92       140\n",
            "\n",
            "    accuracy                           0.92       300\n",
            "   macro avg       0.92      0.92      0.92       300\n",
            "weighted avg       0.92      0.92      0.92       300\n",
            "\n",
            "\n",
            "Hasil Pipeline dengan StandardScaler dan Random Forest:\n",
            "Akurasi: 0.9166666666666666\n",
            "              precision    recall  f1-score   support\n",
            "\n",
            "           0       0.97      0.88      0.92       160\n",
            "           1       0.87      0.96      0.92       140\n",
            "\n",
            "    accuracy                           0.92       300\n",
            "   macro avg       0.92      0.92      0.92       300\n",
            "weighted avg       0.92      0.92      0.92       300\n",
            "\n",
            "\n",
            "Best Parameters dari GridSearchCV: {'rf__max_depth': 10, 'rf__min_samples_split': 5, 'rf__n_estimators': 100}\n",
            "Best Cross-Validation Score: 0.9314285714285713\n",
            "\n",
            "Hasil Model dengan Parameter Terbaik:\n",
            "Akurasi: 0.92\n",
            "              precision    recall  f1-score   support\n",
            "\n",
            "           0       0.97      0.88      0.92       160\n",
            "           1       0.87      0.97      0.92       140\n",
            "\n",
            "    accuracy                           0.92       300\n",
            "   macro avg       0.92      0.92      0.92       300\n",
            "weighted avg       0.93      0.92      0.92       300\n",
            "\n"
          ]
        },
        {
          "output_type": "display_data",
          "data": {
            "text/plain": [
              "<Figure size 600x500 with 2 Axes>"
            ],
            "image/png": "[encoded data removed]"
          },
          "metadata": {}
        },
        {
          "output_type": "stream",
          "name": "stdout",
          "text": [
            "\n",
            "Kesimpulan:\n",
            "1. Pendekatan cepat dengan Random Forest memberikan gambaran awal performa model.\n",
            "2. Pipeline menyederhanakan integrasi preprocessing dan pelatihan model.\n",
            "3. Hyperparameter tuning dengan GridSearchCV meningkatkan performa model.\n",
            "4. Visualisasi Confusion Matrix membantu menganalisis prediksi secara mendetail.\n",
            "\n",
            "Langkah Berikutnya:\n",
            "- Evaluasi model pada dataset lebih besar atau dunia nyata.\n",
            "- Pertimbangkan pendekatan lain seperti Neural Networks jika data lebih kompleks.\n",
            "- Pastikan sistem produksi menangani data baru dengan preprocessing yang sama.\n"
          ]
        }
      ],
      "source": [
        "import numpy as np\n",
        "import pandas as pd\n",
        "from sklearn.model_selection import train_test_split, GridSearchCV\n",
        "from sklearn.ensemble import RandomForestClassifier\n",
        "from sklearn.metrics import accuracy_score, classification_report, confusion_matrix\n",
        "from sklearn.pipeline import Pipeline\n",
        "from sklearn.preprocessing import StandardScaler\n",
        "import matplotlib.pyplot as plt\n",
        "import seaborn as sns\n",
        "\n",
        "# 1. Pendekatan untuk Masalah Machine Learning\n",
        "# Membuat dataset sintetis untuk klasifikasi\n",
        "from sklearn.datasets import make_classification\n",
        "X, y = make_classification(n_samples=1000, n_features=20, n_informative=10, n_redundant=5, random_state=42)\n",
        "X_train, X_test, y_train, y_test = train_test_split(X, y, test_size=0.3, random_state=42)\n",
        "\n",
        "# Penjelasan:\n",
        "# Dataset digunakan untuk mendemonstrasikan pendekatan machine learning dari prototipe hingga evaluasi.\n",
        "\n",
        "# 2. Prototipe Cepat dengan Random Forest\n",
        "model = RandomForestClassifier(random_state=42)\n",
        "model.fit(X_train, y_train)\n",
        "y_pred = model.predict(X_test)\n",
        "\n",
        "print(\"\\nHasil Prototipe Cepat dengan Random Forest:\")\n",
        "print(\"Akurasi:\", accuracy_score(y_test, y_pred))\n",
        "print(classification_report(y_test, y_pred))\n",
        "\n",
        "# Penjelasan:\n",
        "# Model Random Forest digunakan untuk membuat prototipe cepat, menghasilkan hasil awal untuk data uji.\n",
        "\n",
        "# 3. Pipeline dan Preprocessing\n",
        "pipeline = Pipeline([\n",
        "    ('scaler', StandardScaler()),\n",
        "    ('rf', RandomForestClassifier(random_state=42))\n",
        "])\n",
        "\n",
        "pipeline.fit(X_train, y_train)\n",
        "y_pipeline_pred = pipeline.predict(X_test)\n",
        "\n",
        "print(\"\\nHasil Pipeline dengan StandardScaler dan Random Forest:\")\n",
        "print(\"Akurasi:\", accuracy_score(y_test, y_pipeline_pred))\n",
        "print(classification_report(y_test, y_pipeline_pred))\n",
        "\n",
        "# Penjelasan:\n",
        "# Pipeline digunakan untuk menggabungkan preprocessing dan model dalam satu alur.\n",
        "\n",
        "# 4. Hyperparameter Tuning dengan GridSearchCV\n",
        "param_grid = {\n",
        "    'rf__n_estimators': [50, 100, 200],\n",
        "    'rf__max_depth': [None, 10, 20],\n",
        "    'rf__min_samples_split': [2, 5, 10]\n",
        "}\n",
        "\n",
        "grid_search = GridSearchCV(pipeline, param_grid, cv=5, scoring='accuracy')\n",
        "grid_search.fit(X_train, y_train)\n",
        "\n",
        "print(\"\\nBest Parameters dari GridSearchCV:\", grid_search.best_params_)\n",
        "print(\"Best Cross-Validation Score:\", grid_search.best_score_)\n",
        "\n",
        "# Menggunakan model terbaik\n",
        "best_model = grid_search.best_estimator_\n",
        "y_best_pred = best_model.predict(X_test)\n",
        "\n",
        "print(\"\\nHasil Model dengan Parameter Terbaik:\")\n",
        "print(\"Akurasi:\", accuracy_score(y_test, y_best_pred))\n",
        "print(classification_report(y_test, y_best_pred))\n",
        "\n",
        "# 5. Visualisasi Confusion Matrix\n",
        "cm = confusion_matrix(y_test, y_best_pred)\n",
        "plt.figure(figsize=(6, 5))\n",
        "sns.heatmap(cm, annot=True, fmt='d', cmap='Blues', xticklabels=['Class 0', 'Class 1'], yticklabels=['Class 0', 'Class 1'])\n",
        "plt.title(\"Confusion Matrix\")\n",
        "plt.xlabel(\"Prediksi\")\n",
        "plt.ylabel(\"Aktual\")\n",
        "plt.show()\n",
        "\n",
        "# Penjelasan:\n",
        "# Confusion matrix memberikan gambaran rinci tentang prediksi yang benar dan salah pada data uji.\n",
        "\n",
        "# 6. Kesimpulan dan Langkah Berikutnya\n",
        "print(\"\\nKesimpulan:\")\n",
        "print(\"1. Pendekatan cepat dengan Random Forest memberikan gambaran awal performa model.\")\n",
        "print(\"2. Pipeline menyederhanakan integrasi preprocessing dan pelatihan model.\")\n",
        "print(\"3. Hyperparameter tuning dengan GridSearchCV meningkatkan performa model.\")\n",
        "print(\"4. Visualisasi Confusion Matrix membantu menganalisis prediksi secara mendetail.\")\n",
        "print(\"\\nLangkah Berikutnya:\")\n",
        "print(\"- Evaluasi model pada dataset lebih besar atau dunia nyata.\")\n",
        "print(\"- Pertimbangkan pendekatan lain seperti Neural Networks jika data lebih kompleks.\")\n",
        "print(\"- Pastikan sistem produksi menangani data baru dengan preprocessing yang sama.\")\n"
      ]
    },
    {
      "cell_type": "code",
      "source": [],
      "metadata": {
        "id": "ZrqHww6V4QYo"
      },
      "execution_count": null,
      "outputs": []
    }
  ]
}